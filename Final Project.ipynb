{
 "cells": [
  {
   "metadata": {},
   "cell_type": "markdown",
   "source": "# CS5756 Final Project: Safe Reinforcement Learning with Behavioral Cloning",
   "id": "ba95d1a5ad16086"
  },
  {
   "metadata": {},
   "cell_type": "markdown",
   "source": "## Setup",
   "id": "86c431c2812d5659"
  },
  {
   "metadata": {
    "ExecuteTime": {
     "end_time": "2024-05-01T16:05:52.191544Z",
     "start_time": "2024-05-01T16:05:52.185957Z"
    }
   },
   "cell_type": "code",
   "source": [
    "# Set Up:\n",
    "import sys\n",
    "\n",
    "import numpy as np\n",
    "import gymnasium as gym\n",
    "import random\n",
    "import matplotlib.pyplot as plt\n",
    "from copy import deepcopy\n",
    "\n",
    "from torch.utils.data import DataLoader\n",
    "from torch import nn\n",
    "import torch\n",
    "import cv2\n",
    "from tqdm import tqdm, trange\n",
    "\n",
    "seed = 24\n",
    "data_seed = 700\n"
   ],
   "id": "31f3dae08fcb61ec",
   "outputs": [],
   "execution_count": 18
  },
  {
   "metadata": {
    "ExecuteTime": {
     "end_time": "2024-05-01T16:05:56.561498Z",
     "start_time": "2024-05-01T16:05:56.549066Z"
    }
   },
   "cell_type": "code",
   "source": [
    "# Set seeds\n",
    "# Setting the seed to ensure reproducability\n",
    "def reseed(seed, env=None):\n",
    "    '''\n",
    "        Sets the seed for reproducibility \n",
    "\n",
    "        When @param env is provided, also sets the \n",
    "        random number generataor of the gym environment \n",
    "        to this particular seed\n",
    "    '''\n",
    "    torch.manual_seed(seed)\n",
    "    random.seed(seed)\n",
    "    np.random.seed(seed)\n",
    "    \n",
    "    if env is not None: \n",
    "        env.unwrapped._np_random = gym.utils.seeding.np_random(seed)[0]\n",
    "\n",
    "reseed(seed)"
   ],
   "id": "2dcc00bba1f15100",
   "outputs": [],
   "execution_count": 19
  },
  {
   "metadata": {
    "ExecuteTime": {
     "end_time": "2024-05-01T15:10:06.502150Z",
     "start_time": "2024-05-01T15:10:06.498409Z"
    }
   },
   "cell_type": "code",
   "source": [
    "# Visualize\n",
    "def visualize(env_name='LunarLander-v2', algorithm=None, video_name=\"test\", env_args={}):\n",
    "    \"\"\"Visualize a policy network for a given algorithm on a single episode\n",
    "\n",
    "        Args:\n",
    "            env_name: Name of the gym environment to roll out `algorithm` in, it will be instantiated using gym.make or make_vec_env\n",
    "            algorithm (PPOActor): Actor whose policy network will be rolled out for the episode. If\n",
    "            no algorithm is passed in, a random policy will be visualized.\n",
    "            video_name (str): Name for the mp4 file of the episode that will be saved (omit .mp4). Only used\n",
    "            when running on local machine.\n",
    "    \"\"\"\n",
    "\n",
    "    def get_action(obs):\n",
    "        if not algorithm:\n",
    "            return env.action_space.sample()\n",
    "        else:\n",
    "            return algorithm.select_action(obs)\n",
    "\n",
    "    video = cv2.VideoWriter(f\"{video_name}.mp4\", cv2.VideoWriter_fourcc(*'mp4v'), 24, (600,400))\n",
    "\n",
    "    env_args['render_mode'] = 'rgb_array'\n",
    "    env = gym.make(env_name, **env_args)\n",
    "    obs, info = env.reset()\n",
    "\n",
    "    for i in range(500):\n",
    "        action = get_action(obs)\n",
    "        res = env.step(action)\n",
    "        obs, reward, done, truncate, info = res\n",
    "\n",
    "        if done:\n",
    "            break\n",
    "\n",
    "        im = env.render()\n",
    "        im = im[:,:,::-1]\n",
    "\n",
    "        video.write(im)\n",
    "\n",
    "    video.release()\n",
    "    env.close()\n",
    "    print(f\"Video saved as {video_name}.mp4\")"
   ],
   "id": "84e69f7a7e2bf453",
   "outputs": [],
   "execution_count": 10
  },
  {
   "metadata": {
    "ExecuteTime": {
     "end_time": "2024-05-01T15:10:06.505744Z",
     "start_time": "2024-05-01T15:10:06.503355Z"
    }
   },
   "cell_type": "code",
   "source": [
    "# Evaluate Policy\n",
    "def evaluate_policy(actor, environment, num_episodes=100, progress=True): \n",
    "    '''\n",
    "        Returns the mean trajectory reward of rolling out `actor` on `environment \n",
    "\n",
    "        Parameters \n",
    "        - actor: PPOActor instance, defined in Part 1 \n",
    "        - environment: classstable_baselines3.common.vec_env.VecEnv instance \n",
    "        - num_episodes: total number of trajectories to collect and average over\n",
    "    '''\n",
    "    total_rew = 0 \n",
    "\n",
    "    iterate = (trange(num_episodes) if progress else range(num_episodes))\n",
    "    for _ in iterate: \n",
    "        obs = environment.reset() \n",
    "        done = False\n",
    "\n",
    "        while not done: \n",
    "            action = actor.select_action(obs)\n",
    "            \n",
    "            next_obs, reward, done, info = environment.step(action) \n",
    "            total_rew += reward\n",
    "            \n",
    "            obs = next_obs \n",
    "            # done = done.any() if isinstance(done, np.ndarray) else done\n",
    "    return (total_rew / num_episodes).item() \n",
    "        "
   ],
   "id": "7f26b456aed94281",
   "outputs": [],
   "execution_count": 11
  },
  {
   "metadata": {
    "ExecuteTime": {
     "end_time": "2024-05-01T15:17:17.141293Z",
     "start_time": "2024-05-01T15:17:12.019770Z"
    }
   },
   "cell_type": "code",
   "source": "visualize(env_name='CarRacing-v2')",
   "id": "260d3e558d53979f",
   "outputs": [
    {
     "name": "stdout",
     "output_type": "stream",
     "text": [
      "Video saved as test.mp4\n"
     ]
    }
   ],
   "execution_count": 17
  },
  {
   "metadata": {},
   "cell_type": "code",
   "outputs": [],
   "execution_count": null,
   "source": "",
   "id": "ea4c0b37ffa0bff7"
  }
 ],
 "metadata": {
  "kernelspec": {
   "display_name": "Python 3",
   "language": "python",
   "name": "python3"
  },
  "language_info": {
   "codemirror_mode": {
    "name": "ipython",
    "version": 2
   },
   "file_extension": ".py",
   "mimetype": "text/x-python",
   "name": "python",
   "nbconvert_exporter": "python",
   "pygments_lexer": "ipython2",
   "version": "2.7.6"
  }
 },
 "nbformat": 4,
 "nbformat_minor": 5
}
